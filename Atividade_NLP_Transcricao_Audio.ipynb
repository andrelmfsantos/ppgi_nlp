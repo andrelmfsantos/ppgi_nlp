{
 "cells": [
  {
   "cell_type": "markdown",
   "id": "ae6f6627",
   "metadata": {},
   "source": [
    "<pre>\n",
    "<img align=\"center\" width=\"300\" src=\"https://raw.githubusercontent.com/andrelmfsantos/ppga/master/logo%20uninove.png\">\n",
    "</pre>\n",
    "\n",
    "<pre>\n",
    "<img align=\"center\" width=\"150\" src=\"https://camo.githubusercontent.com/bdc6a3b8963aa99ff57dfd6e1e4b937bd2e752bcb1f1936f90368e5c3a38f670/68747470733a2f2f696d672e736869656c64732e696f2f62616467652f4c6963656e73652d434325323042592d2d5341253230342e302d6c69676874677265792e737667\">\n",
    "</pre>"
   ]
  },
  {
   "cell_type": "markdown",
   "id": "ebfc2d0f",
   "metadata": {},
   "source": [
    "<h1 style=\"text-align:center;\">Transcrição de áudio com Python</h1>"
   ]
  },
  {
   "cell_type": "markdown",
   "id": "b32bbe7a",
   "metadata": {},
   "source": [
    "|                 |              |\n",
    "|:----------------|:-------------|\n",
    "|**Universidade:**| Nove de Julho|\n",
    "|**Programa:**    | PPGI - Programa de Pós Graduação em Informática |\n",
    "|**Disciplina:**  | Natural Language Processing|\n",
    "|**Professor:**   | ???|\n",
    "|**Alunos:**       | André L.M.F.Santos (RA:); Fátima(RA:); e Reinaldo(RA:)|"
   ]
  },
  {
   "cell_type": "code",
   "execution_count": 1,
   "id": "c421953f",
   "metadata": {},
   "outputs": [
    {
     "name": "stdout",
     "output_type": "stream",
     "text": [
      "Requirement already satisfied: SpeechRecognition in c:\\users\\99836932\\anaconda3\\lib\\site-packages (3.10.0)\n",
      "Requirement already satisfied: requests>=2.26.0 in c:\\users\\99836932\\anaconda3\\lib\\site-packages (from SpeechRecognition) (2.27.1)\n",
      "Requirement already satisfied: urllib3<1.27,>=1.21.1 in c:\\users\\99836932\\anaconda3\\lib\\site-packages (from requests>=2.26.0->SpeechRecognition) (1.26.9)\n",
      "Requirement already satisfied: charset-normalizer~=2.0.0 in c:\\users\\99836932\\anaconda3\\lib\\site-packages (from requests>=2.26.0->SpeechRecognition) (2.0.4)\n",
      "Requirement already satisfied: certifi>=2017.4.17 in c:\\users\\99836932\\anaconda3\\lib\\site-packages (from requests>=2.26.0->SpeechRecognition) (2021.10.8)\n",
      "Requirement already satisfied: idna<4,>=2.5 in c:\\users\\99836932\\anaconda3\\lib\\site-packages (from requests>=2.26.0->SpeechRecognition) (3.3)\n",
      "Note: you may need to restart the kernel to use updated packages.\n"
     ]
    }
   ],
   "source": [
    "pip install SpeechRecognition"
   ]
  },
  {
   "cell_type": "code",
   "execution_count": 2,
   "id": "030610e8",
   "metadata": {},
   "outputs": [],
   "source": [
    "# https://pypi.org/project/SpeechRecognition/\n",
    "import speech_recognition as sr\n",
    "\n",
    "r=sr.Recognizer()\n",
    "\n",
    "with sr.AudioFile(\"C:/Users/99836932/Downloads/Audio_Atividade_NLP.wav\") as source:\n",
    "    # listen for the data (load audio to memory)\n",
    "    audio_data = r.record(source)\n",
    "    text = r.recognize_google(audio_data,language='pt-BR')\n",
    "\n",
    "with open(\"C:/Users/99836932/Downloads/Audio_Atividade_NLP.txt\", 'w') as f:\n",
    "    f.write(text)"
   ]
  },
  {
   "cell_type": "code",
   "execution_count": 3,
   "id": "900ca127",
   "metadata": {},
   "outputs": [
    {
     "name": "stdout",
     "output_type": "stream",
     "text": [
      "boa noite sejam bem-vindos eu sou o Dr Reinaldo eu sou endocrinologista aqui do hospital ou Sra Fátima senhora trouxe o André para a gente conhecer avaliar sim Boa noite doutora é o André ele sofre de hipoteroidismo né e a gente está procurando verificar se a medicação que ele tá tomando atualmente é tá atendendo as necessidades dele a gente tá procurando o Senhor por isso tá ok André Você sabe contar a história desse seu acompanhamento sim Doutor eu descobri que eu tinha essa doença né o hipotireoidismo há uns 20 anos atrás quando eu era atleta eu jogava basquete e num dos exames de rotina é ou deu uma alteração no meu elétron E aí o médico na época ele pediu uma bateria de exames dentro dos exames tinha o exame de sangue e quando ele pegou o resultado do exame de sangue e ele foi que constatou que eu tinha o hipotiroidismo muito bem o André e você fez algum exame recente qual foi a última vez que você fez exame Doutor faz muito tempo que eu não faço exame daquela época é que eu descobri Eu acho que só mais uma vez que eu fiz o exame o exame de sangue e ainda realmente constatava que eu tinha esse tirodismo agora a única coisa que eu faço que eu tô fazendo de lá para cá é o a medicação eu tomo sintroid 75 é em jejum todo dia pela manhã né antes do café eu tenho que esperar pelo menos 30 minutos né meia hora para poder tomar o café caso contrário segundo o médico a medicação não vai fazer efeito de fato André o seu médico que acompanha o seu caso anterior ele tem razão essa medicação precisa ser tomada de jejum 75 microgramas é uma dose razoável Eu gostaria de pedir para você alguns exames tá então eu vou prescrever aqui uma ultrassonografia nós vamos fazer uma biópsia da sua tireoide nós vamos fazer uma ultrassonografia de umas glândulas que fica próximo da tireóide que ela para tireoide nós vamos fazer também uma outra cenografia e uma tomografia computadorizada dos seus rins para a gente avaliar além dos rins as suas glândulas supra-renais que são glândulas que podem interferir diretamente na metabolização e absorção de alguns sais e no controle metabólico dos seus hormônios vou te pedir alguns exames de sangue como sódio potássio ureia creatinina vamos manter por enquanto há essa dosagem do medicamento que você toma e no seu retorno daqui a 30 dias Dona Fátima tá bom a evolução do quadro dessa tireoide tá nós podemos estar aí lidando com a situação simples de ordem metabólica Eu quero descartar qualquer outra situação porventura esteja acontecendo mas não vamos ser precipitados vamos conduzir com calma fazer os exames com calma espero revê-los daqui a 30 dias a gente bater um papo novamente e se necessário mudar a conduta ou manter a conduta tem alguma dúvida eu acho que a dúvida que a gente tem é se esses exames a gente consegue fazer aqui no hospital faz pelo SUS é complexo aqui no hospital público a gente consegue fazer aqui a diferença eu vou encaminhar vocês agora lá para recepção do ambulatório o detalhe que talvez não consiga fazer imediatamente mas não o pessoal vai fazer o agendamento e vai dizer a data exata eu acho que daqui uns 15 20 dias no máximo faz é o tempo suficiente para a gente ter os resultados e a gente volta a se falar tá bom muito bem eu agradeço a presença de vocês espero ter esclarecido as dúvidas boa noite tudo de bom para vocês boa noite boa noite tchau tchau\n"
     ]
    }
   ],
   "source": [
    "print(text)"
   ]
  }
 ],
 "metadata": {
  "kernelspec": {
   "display_name": "Python 3 (ipykernel)",
   "language": "python",
   "name": "python3"
  },
  "language_info": {
   "codemirror_mode": {
    "name": "ipython",
    "version": 3
   },
   "file_extension": ".py",
   "mimetype": "text/x-python",
   "name": "python",
   "nbconvert_exporter": "python",
   "pygments_lexer": "ipython3",
   "version": "3.9.12"
  }
 },
 "nbformat": 4,
 "nbformat_minor": 5
}
